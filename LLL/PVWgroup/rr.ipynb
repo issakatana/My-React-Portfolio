function generatePascalsTriangle(rows) {
    const triangle = [];

    for (let i = 0; i < rows; i++) {
        triangle[i] = [];
        for (let j = 0; j <= i; j++) {
            if (j === 0 || j === i) {
                triangle[i][j] = 1;
            } else {
                triangle[i][j] = triangle[i - 1][j - 1] + triangle[i - 1][j];
            }
        }
    }

    return triangle;
}

function displayPascalsTriangle(triangle) {
    for (let i = 0; i < triangle.length; i++) {
        const row = triangle[i].join(' ');
        const spaces = ' '.repeat((triangle.length - i - 1) * 2);
        console.log(spaces + row);
    }
}

// Example: Display Pascal's Triangle with 5 rows
const numberOfRows = 5;
const pascalsTriangle = generatePascalsTriangle(numberOfRows);
displayPascalsTriangle(pascalsTriangle);
